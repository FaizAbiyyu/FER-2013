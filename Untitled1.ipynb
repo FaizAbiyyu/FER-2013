{
 "cells": [
  {
   "cell_type": "code",
   "execution_count": 19,
   "id": "8faf031f",
   "metadata": {},
   "outputs": [],
   "source": [
    "# Dipakek\n",
    "import pandas as pd\n",
    "import numpy as np\n",
    "import cv2\n",
    "import tensorflow as tf\n",
    "from tensorflow.keras.layers import Conv2D, MaxPooling2D, Flatten, Dense, Dropout\n",
    "from tensorflow.keras.models import Sequential\n",
    "from sklearn.model_selection import train_test_split\n",
    "from sklearn.preprocessing import LabelEncoder\n",
    "from skimage.feature import local_binary_pattern\n",
    "\n",
    "# Fungsi untuk menghitung LBP pada satu gambar\n",
    "def calculate_lbp_image(img):\n",
    "    lbp_image = local_binary_pattern(img, 8, 1, method='uniform')\n",
    "    return lbp_image\n",
    "\n",
    "# Baca dataset FER2013\n",
    "data = pd.read_csv('../fer2013.csv')\n",
    "\n"
   ]
  },
  {
   "cell_type": "code",
   "execution_count": 20,
   "id": "eddea577",
   "metadata": {},
   "outputs": [],
   "source": [
    "\n",
    "# Ekstraksi fitur LBP dan simpan dalam list\n",
    "lbp_features = []\n",
    "for i in range(len(data)):\n",
    "    pixels = np.array(data['pixels'].iloc[i].split(' '), dtype=int)\n",
    "    img = pixels.reshape(48, 48)\n",
    "    lbp_image = calculate_lbp_image(img)\n",
    "    lbp_features.append(lbp_image)"
   ]
  },
  {
   "cell_type": "code",
   "execution_count": 21,
   "id": "16160806",
   "metadata": {},
   "outputs": [
    {
     "name": "stdout",
     "output_type": "stream",
     "text": [
      "Model: \"sequential_4\"\n",
      "_________________________________________________________________\n",
      " Layer (type)                Output Shape              Param #   \n",
      "=================================================================\n",
      " conv2d_8 (Conv2D)           (None, 48, 48, 64)        640       \n",
      "                                                                 \n",
      " conv2d_9 (Conv2D)           (None, 48, 48, 64)        36928     \n",
      "                                                                 \n",
      " max_pooling2d_4 (MaxPooling  (None, 24, 24, 64)       0         \n",
      " 2D)                                                             \n",
      "                                                                 \n",
      " flatten_4 (Flatten)         (None, 36864)             0         \n",
      "                                                                 \n",
      " dense_8 (Dense)             (None, 4096)              150999040 \n",
      "                                                                 \n",
      " dropout_4 (Dropout)         (None, 4096)              0         \n",
      "                                                                 \n",
      " dense_9 (Dense)             (None, 4096)              16781312  \n",
      "                                                                 \n",
      " dropout_5 (Dropout)         (None, 4096)              0         \n",
      "                                                                 \n",
      " dense_10 (Dense)            (None, 7)                 28679     \n",
      "                                                                 \n",
      "=================================================================\n",
      "Total params: 167,846,599\n",
      "Trainable params: 167,846,599\n",
      "Non-trainable params: 0\n",
      "_________________________________________________________________\n"
     ]
    }
   ],
   "source": [
    "\n",
    "# Konversi list ke array\n",
    "lbp_features = np.array(lbp_features)\n",
    "\n",
    "# Konversi label emosi menjadi one-hot encoding\n",
    "encoder = LabelEncoder()\n",
    "labels = encoder.fit_transform(data['emotion'])\n",
    "labels = tf.keras.utils.to_categorical(labels, num_classes=7)  # Ubah menjadi 7 karena ada 7 emosi dalam dataset\n",
    "\n",
    "# Bagi data menjadi set pelatihan dan validasi\n",
    "X_train, X_val, y_train, y_val = train_test_split(lbp_features, labels, test_size=0.2, random_state=42)\n",
    "\n",
    "# Buat model Sequential\n",
    "model = Sequential()\n",
    "\n",
    "# Layer 1\n",
    "model.add(Conv2D(64, (3, 3), input_shape=(48, 48, 1), activation='relu', padding='same'))\n",
    "model.add(Conv2D(64, (3, 3), activation='relu', padding='same'))\n",
    "model.add(MaxPooling2D(pool_size=(2, 2), strides=(2, 2)))\n",
    "\n",
    "# Fully connected layers\n",
    "model.add(Flatten())\n",
    "model.add(Dense(4096, activation='relu'))\n",
    "model.add(Dropout(0.5))\n",
    "model.add(Dense(4096, activation='relu'))\n",
    "model.add(Dropout(0.5))\n",
    "model.add(Dense(7, activation='softmax'))  # Output layer with 7 classes (emotions)\n",
    "\n",
    "model.summary()\n"
   ]
  },
  {
   "cell_type": "code",
   "execution_count": null,
   "id": "a6943c79",
   "metadata": {},
   "outputs": [],
   "source": []
  }
 ],
 "metadata": {
  "kernelspec": {
   "display_name": "Python 3 (ipykernel)",
   "language": "python",
   "name": "python3"
  },
  "language_info": {
   "codemirror_mode": {
    "name": "ipython",
    "version": 3
   },
   "file_extension": ".py",
   "mimetype": "text/x-python",
   "name": "python",
   "nbconvert_exporter": "python",
   "pygments_lexer": "ipython3",
   "version": "3.10.12"
  }
 },
 "nbformat": 4,
 "nbformat_minor": 5
}
